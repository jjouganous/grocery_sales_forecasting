{
 "cells": [
  {
   "cell_type": "code",
   "execution_count": 101,
   "metadata": {},
   "outputs": [
    {
     "data": {
      "text/html": [
       "\n",
       "    <div class=\"bk-root\">\n",
       "        <a href=\"http://bokeh.pydata.org\" target=\"_blank\" class=\"bk-logo bk-logo-small bk-logo-notebook\"></a>\n",
       "        <span id=\"3a51f9d4-5dbb-4691-96b5-fa8c0089c2cb\">Loading BokehJS ...</span>\n",
       "    </div>"
      ]
     },
     "metadata": {},
     "output_type": "display_data"
    },
    {
     "data": {
      "application/javascript": [
       "\n",
       "(function(global) {\n",
       "  function now() {\n",
       "    return new Date();\n",
       "  }\n",
       "\n",
       "  var force = true;\n",
       "\n",
       "  if (typeof (window._bokeh_onload_callbacks) === \"undefined\" || force === true) {\n",
       "    window._bokeh_onload_callbacks = [];\n",
       "    window._bokeh_is_loading = undefined;\n",
       "  }\n",
       "\n",
       "\n",
       "  \n",
       "  if (typeof (window._bokeh_timeout) === \"undefined\" || force === true) {\n",
       "    window._bokeh_timeout = Date.now() + 5000;\n",
       "    window._bokeh_failed_load = false;\n",
       "  }\n",
       "\n",
       "  var NB_LOAD_WARNING = {'data': {'text/html':\n",
       "     \"<div style='background-color: #fdd'>\\n\"+\n",
       "     \"<p>\\n\"+\n",
       "     \"BokehJS does not appear to have successfully loaded. If loading BokehJS from CDN, this \\n\"+\n",
       "     \"may be due to a slow or bad network connection. Possible fixes:\\n\"+\n",
       "     \"</p>\\n\"+\n",
       "     \"<ul>\\n\"+\n",
       "     \"<li>re-rerun `output_notebook()` to attempt to load from CDN again, or</li>\\n\"+\n",
       "     \"<li>use INLINE resources instead, as so:</li>\\n\"+\n",
       "     \"</ul>\\n\"+\n",
       "     \"<code>\\n\"+\n",
       "     \"from bokeh.resources import INLINE\\n\"+\n",
       "     \"output_notebook(resources=INLINE)\\n\"+\n",
       "     \"</code>\\n\"+\n",
       "     \"</div>\"}};\n",
       "\n",
       "  function display_loaded() {\n",
       "    if (window.Bokeh !== undefined) {\n",
       "      var el = document.getElementById(\"3a51f9d4-5dbb-4691-96b5-fa8c0089c2cb\");\n",
       "      el.textContent = \"BokehJS \" + Bokeh.version + \" successfully loaded.\";\n",
       "    } else if (Date.now() < window._bokeh_timeout) {\n",
       "      setTimeout(display_loaded, 100)\n",
       "    }\n",
       "  }\n",
       "\n",
       "  function run_callbacks() {\n",
       "    window._bokeh_onload_callbacks.forEach(function(callback) { callback() });\n",
       "    delete window._bokeh_onload_callbacks\n",
       "    console.info(\"Bokeh: all callbacks have finished\");\n",
       "  }\n",
       "\n",
       "  function load_libs(js_urls, callback) {\n",
       "    window._bokeh_onload_callbacks.push(callback);\n",
       "    if (window._bokeh_is_loading > 0) {\n",
       "      console.log(\"Bokeh: BokehJS is being loaded, scheduling callback at\", now());\n",
       "      return null;\n",
       "    }\n",
       "    if (js_urls == null || js_urls.length === 0) {\n",
       "      run_callbacks();\n",
       "      return null;\n",
       "    }\n",
       "    console.log(\"Bokeh: BokehJS not loaded, scheduling load and callback at\", now());\n",
       "    window._bokeh_is_loading = js_urls.length;\n",
       "    for (var i = 0; i < js_urls.length; i++) {\n",
       "      var url = js_urls[i];\n",
       "      var s = document.createElement('script');\n",
       "      s.src = url;\n",
       "      s.async = false;\n",
       "      s.onreadystatechange = s.onload = function() {\n",
       "        window._bokeh_is_loading--;\n",
       "        if (window._bokeh_is_loading === 0) {\n",
       "          console.log(\"Bokeh: all BokehJS libraries loaded\");\n",
       "          run_callbacks()\n",
       "        }\n",
       "      };\n",
       "      s.onerror = function() {\n",
       "        console.warn(\"failed to load library \" + url);\n",
       "      };\n",
       "      console.log(\"Bokeh: injecting script tag for BokehJS library: \", url);\n",
       "      document.getElementsByTagName(\"head\")[0].appendChild(s);\n",
       "    }\n",
       "  };var element = document.getElementById(\"3a51f9d4-5dbb-4691-96b5-fa8c0089c2cb\");\n",
       "  if (element == null) {\n",
       "    console.log(\"Bokeh: ERROR: autoload.js configured with elementid '3a51f9d4-5dbb-4691-96b5-fa8c0089c2cb' but no matching script tag was found. \")\n",
       "    return false;\n",
       "  }\n",
       "\n",
       "  var js_urls = [\"https://cdn.pydata.org/bokeh/release/bokeh-0.12.5.min.js\", \"https://cdn.pydata.org/bokeh/release/bokeh-widgets-0.12.5.min.js\"];\n",
       "\n",
       "  var inline_js = [\n",
       "    function(Bokeh) {\n",
       "      Bokeh.set_log_level(\"info\");\n",
       "    },\n",
       "    \n",
       "    function(Bokeh) {\n",
       "      \n",
       "    },\n",
       "    \n",
       "    function(Bokeh) {\n",
       "      \n",
       "      document.getElementById(\"3a51f9d4-5dbb-4691-96b5-fa8c0089c2cb\").textContent = \"BokehJS is loading...\";\n",
       "    },\n",
       "    function(Bokeh) {\n",
       "      console.log(\"Bokeh: injecting CSS: https://cdn.pydata.org/bokeh/release/bokeh-0.12.5.min.css\");\n",
       "      Bokeh.embed.inject_css(\"https://cdn.pydata.org/bokeh/release/bokeh-0.12.5.min.css\");\n",
       "      console.log(\"Bokeh: injecting CSS: https://cdn.pydata.org/bokeh/release/bokeh-widgets-0.12.5.min.css\");\n",
       "      Bokeh.embed.inject_css(\"https://cdn.pydata.org/bokeh/release/bokeh-widgets-0.12.5.min.css\");\n",
       "    }\n",
       "  ];\n",
       "\n",
       "  function run_inline_js() {\n",
       "    \n",
       "    if ((window.Bokeh !== undefined) || (force === true)) {\n",
       "      for (var i = 0; i < inline_js.length; i++) {\n",
       "        inline_js[i](window.Bokeh);\n",
       "      }if (force === true) {\n",
       "        display_loaded();\n",
       "      }} else if (Date.now() < window._bokeh_timeout) {\n",
       "      setTimeout(run_inline_js, 100);\n",
       "    } else if (!window._bokeh_failed_load) {\n",
       "      console.log(\"Bokeh: BokehJS failed to load within specified timeout.\");\n",
       "      window._bokeh_failed_load = true;\n",
       "    } else if (force !== true) {\n",
       "      var cell = $(document.getElementById(\"3a51f9d4-5dbb-4691-96b5-fa8c0089c2cb\")).parents('.cell').data().cell;\n",
       "      cell.output_area.append_execute_result(NB_LOAD_WARNING)\n",
       "    }\n",
       "\n",
       "  }\n",
       "\n",
       "  if (window._bokeh_is_loading === 0) {\n",
       "    console.log(\"Bokeh: BokehJS loaded, going straight to plotting\");\n",
       "    run_inline_js();\n",
       "  } else {\n",
       "    load_libs(js_urls, function() {\n",
       "      console.log(\"Bokeh: BokehJS plotting callback run at\", now());\n",
       "      run_inline_js();\n",
       "    });\n",
       "  }\n",
       "}(this));"
      ]
     },
     "metadata": {},
     "output_type": "display_data"
    }
   ],
   "source": [
    "import pandas as pd\n",
    "import numpy as np\n",
    "from sklearn import linear_model\n",
    "from sklearn.metrics import mean_squared_error, r2_score\n",
    "import scipy.fftpack\n",
    "from matplotlib import pyplot as plt\n",
    "# importing bokeh\n",
    "from bokeh.io import push_notebook, show, output_notebook\n",
    "from bokeh.layouts import row\n",
    "from bokeh.plotting import figure\n",
    "from ipywidgets import interact\n",
    "\n",
    "output_notebook()\n",
    "%matplotlib inline\n",
    "plt.rcParams['figure.figsize'] = [18, 12]"
   ]
  },
  {
   "cell_type": "code",
   "execution_count": 2,
   "metadata": {
    "collapsed": true
   },
   "outputs": [],
   "source": [
    "def loaddata(filename, nrows=None):\n",
    "\n",
    "    types = {'id': 'int64',\n",
    "             'item_nbr': 'int32',\n",
    "             'store_nbr': 'int16',\n",
    "             'unit_sales': 'float32',\n",
    "             'onpromotion': bool,\n",
    "    }\n",
    "\n",
    "    data = pd.read_csv(filename, parse_dates=['date'], \n",
    "                                     dtype=types, nrows=nrows, infer_datetime_format=True)\n",
    "\n",
    "    return data"
   ]
  },
  {
   "cell_type": "code",
   "execution_count": 3,
   "metadata": {},
   "outputs": [
    {
     "name": "stderr",
     "output_type": "stream",
     "text": [
      "/anaconda/lib/python3.6/site-packages/IPython/core/interactiveshell.py:2821: DtypeWarning: Columns (5) have mixed types. Specify dtype option on import or set low_memory=False.\n",
      "  if self.run_code(code, result):\n"
     ]
    }
   ],
   "source": [
    "# Reading datasets\n",
    "df_train = loaddata('data/train.csv')"
   ]
  },
  {
   "cell_type": "code",
   "execution_count": 4,
   "metadata": {},
   "outputs": [
    {
     "data": {
      "text/plain": [
       "id             125497040\n",
       "date           125497040\n",
       "store_nbr      125497040\n",
       "item_nbr       125497040\n",
       "unit_sales     125497040\n",
       "onpromotion    103839389\n",
       "dtype: int64"
      ]
     },
     "execution_count": 4,
     "metadata": {},
     "output_type": "execute_result"
    }
   ],
   "source": [
    "df_train.count()"
   ]
  },
  {
   "cell_type": "code",
   "execution_count": 6,
   "metadata": {},
   "outputs": [
    {
     "data": {
      "text/html": [
       "<div>\n",
       "<style>\n",
       "    .dataframe thead tr:only-child th {\n",
       "        text-align: right;\n",
       "    }\n",
       "\n",
       "    .dataframe thead th {\n",
       "        text-align: left;\n",
       "    }\n",
       "\n",
       "    .dataframe tbody tr th {\n",
       "        vertical-align: top;\n",
       "    }\n",
       "</style>\n",
       "<table border=\"1\" class=\"dataframe\">\n",
       "  <thead>\n",
       "    <tr style=\"text-align: right;\">\n",
       "      <th></th>\n",
       "      <th>id</th>\n",
       "      <th>date</th>\n",
       "      <th>store_nbr</th>\n",
       "      <th>item_nbr</th>\n",
       "      <th>unit_sales</th>\n",
       "      <th>onpromotion</th>\n",
       "    </tr>\n",
       "  </thead>\n",
       "  <tbody>\n",
       "    <tr>\n",
       "      <th>0</th>\n",
       "      <td>0</td>\n",
       "      <td>2013-01-01</td>\n",
       "      <td>25</td>\n",
       "      <td>103665</td>\n",
       "      <td>7.0</td>\n",
       "      <td>NaN</td>\n",
       "    </tr>\n",
       "    <tr>\n",
       "      <th>1</th>\n",
       "      <td>1</td>\n",
       "      <td>2013-01-01</td>\n",
       "      <td>25</td>\n",
       "      <td>105574</td>\n",
       "      <td>1.0</td>\n",
       "      <td>NaN</td>\n",
       "    </tr>\n",
       "    <tr>\n",
       "      <th>2</th>\n",
       "      <td>2</td>\n",
       "      <td>2013-01-01</td>\n",
       "      <td>25</td>\n",
       "      <td>105575</td>\n",
       "      <td>2.0</td>\n",
       "      <td>NaN</td>\n",
       "    </tr>\n",
       "    <tr>\n",
       "      <th>3</th>\n",
       "      <td>3</td>\n",
       "      <td>2013-01-01</td>\n",
       "      <td>25</td>\n",
       "      <td>108079</td>\n",
       "      <td>1.0</td>\n",
       "      <td>NaN</td>\n",
       "    </tr>\n",
       "    <tr>\n",
       "      <th>4</th>\n",
       "      <td>4</td>\n",
       "      <td>2013-01-01</td>\n",
       "      <td>25</td>\n",
       "      <td>108701</td>\n",
       "      <td>1.0</td>\n",
       "      <td>NaN</td>\n",
       "    </tr>\n",
       "  </tbody>\n",
       "</table>\n",
       "</div>"
      ],
      "text/plain": [
       "   id       date  store_nbr  item_nbr  unit_sales onpromotion\n",
       "0   0 2013-01-01         25    103665         7.0         NaN\n",
       "1   1 2013-01-01         25    105574         1.0         NaN\n",
       "2   2 2013-01-01         25    105575         2.0         NaN\n",
       "3   3 2013-01-01         25    108079         1.0         NaN\n",
       "4   4 2013-01-01         25    108701         1.0         NaN"
      ]
     },
     "execution_count": 6,
     "metadata": {},
     "output_type": "execute_result"
    }
   ],
   "source": [
    "df_train.head()"
   ]
  },
  {
   "cell_type": "markdown",
   "metadata": {},
   "source": [
    "# Etude de la saisonalité "
   ]
  },
  {
   "cell_type": "code",
   "execution_count": 8,
   "metadata": {},
   "outputs": [],
   "source": [
    "global_sales_per_day = df_train[['date', 'unit_sales']].groupby('date').sum().reset_index()"
   ]
  },
  {
   "cell_type": "code",
   "execution_count": 30,
   "metadata": {
    "scrolled": false
   },
   "outputs": [
    {
     "data": {
      "text/html": [
       "\n",
       "\n",
       "    <div class=\"bk-root\">\n",
       "        <div class=\"bk-plotdiv\" id=\"67edf2f4-2053-4ee5-be99-39ad417c2e10\"></div>\n",
       "    </div>\n",
       "<script type=\"text/javascript\">\n",
       "  \n",
       "  (function(global) {\n",
       "    function now() {\n",
       "      return new Date();\n",
       "    }\n",
       "  \n",
       "    var force = false;\n",
       "  \n",
       "    if (typeof (window._bokeh_onload_callbacks) === \"undefined\" || force === true) {\n",
       "      window._bokeh_onload_callbacks = [];\n",
       "      window._bokeh_is_loading = undefined;\n",
       "    }\n",
       "  \n",
       "  \n",
       "    \n",
       "    if (typeof (window._bokeh_timeout) === \"undefined\" || force === true) {\n",
       "      window._bokeh_timeout = Date.now() + 0;\n",
       "      window._bokeh_failed_load = false;\n",
       "    }\n",
       "  \n",
       "    var NB_LOAD_WARNING = {'data': {'text/html':\n",
       "       \"<div style='background-color: #fdd'>\\n\"+\n",
       "       \"<p>\\n\"+\n",
       "       \"BokehJS does not appear to have successfully loaded. If loading BokehJS from CDN, this \\n\"+\n",
       "       \"may be due to a slow or bad network connection. Possible fixes:\\n\"+\n",
       "       \"</p>\\n\"+\n",
       "       \"<ul>\\n\"+\n",
       "       \"<li>re-rerun `output_notebook()` to attempt to load from CDN again, or</li>\\n\"+\n",
       "       \"<li>use INLINE resources instead, as so:</li>\\n\"+\n",
       "       \"</ul>\\n\"+\n",
       "       \"<code>\\n\"+\n",
       "       \"from bokeh.resources import INLINE\\n\"+\n",
       "       \"output_notebook(resources=INLINE)\\n\"+\n",
       "       \"</code>\\n\"+\n",
       "       \"</div>\"}};\n",
       "  \n",
       "    function display_loaded() {\n",
       "      if (window.Bokeh !== undefined) {\n",
       "        var el = document.getElementById(\"67edf2f4-2053-4ee5-be99-39ad417c2e10\");\n",
       "        el.textContent = \"BokehJS \" + Bokeh.version + \" successfully loaded.\";\n",
       "      } else if (Date.now() < window._bokeh_timeout) {\n",
       "        setTimeout(display_loaded, 100)\n",
       "      }\n",
       "    }if ((window.Jupyter !== undefined) && Jupyter.notebook.kernel) {\n",
       "      comm_manager = Jupyter.notebook.kernel.comm_manager\n",
       "      comm_manager.register_target(\"9ad7563a-40cf-432b-a6ed-ffd2e72696d4\", function () {});\n",
       "    }\n",
       "  \n",
       "    function run_callbacks() {\n",
       "      window._bokeh_onload_callbacks.forEach(function(callback) { callback() });\n",
       "      delete window._bokeh_onload_callbacks\n",
       "      console.info(\"Bokeh: all callbacks have finished\");\n",
       "    }\n",
       "  \n",
       "    function load_libs(js_urls, callback) {\n",
       "      window._bokeh_onload_callbacks.push(callback);\n",
       "      if (window._bokeh_is_loading > 0) {\n",
       "        console.log(\"Bokeh: BokehJS is being loaded, scheduling callback at\", now());\n",
       "        return null;\n",
       "      }\n",
       "      if (js_urls == null || js_urls.length === 0) {\n",
       "        run_callbacks();\n",
       "        return null;\n",
       "      }\n",
       "      console.log(\"Bokeh: BokehJS not loaded, scheduling load and callback at\", now());\n",
       "      window._bokeh_is_loading = js_urls.length;\n",
       "      for (var i = 0; i < js_urls.length; i++) {\n",
       "        var url = js_urls[i];\n",
       "        var s = document.createElement('script');\n",
       "        s.src = url;\n",
       "        s.async = false;\n",
       "        s.onreadystatechange = s.onload = function() {\n",
       "          window._bokeh_is_loading--;\n",
       "          if (window._bokeh_is_loading === 0) {\n",
       "            console.log(\"Bokeh: all BokehJS libraries loaded\");\n",
       "            run_callbacks()\n",
       "          }\n",
       "        };\n",
       "        s.onerror = function() {\n",
       "          console.warn(\"failed to load library \" + url);\n",
       "        };\n",
       "        console.log(\"Bokeh: injecting script tag for BokehJS library: \", url);\n",
       "        document.getElementsByTagName(\"head\")[0].appendChild(s);\n",
       "      }\n",
       "    };var element = document.getElementById(\"67edf2f4-2053-4ee5-be99-39ad417c2e10\");\n",
       "    if (element == null) {\n",
       "      console.log(\"Bokeh: ERROR: autoload.js configured with elementid '67edf2f4-2053-4ee5-be99-39ad417c2e10' but no matching script tag was found. \")\n",
       "      return false;\n",
       "    }\n",
       "  \n",
       "    var js_urls = [];\n",
       "  \n",
       "    var inline_js = [\n",
       "      function(Bokeh) {\n",
       "        (function() {\n",
       "          var fn = function() {\n",
       "            var docs_json = {\"bde78c5f-c108-40ca-8d6e-1de50de23e61\":{\"roots\":{\"references\":[{\"attributes\":{\"callback\":null},\"id\":\"903bb745-b19b-4182-a800-25516c0b6d08\",\"type\":\"DataRange1d\"},{\"attributes\":{\"below\":[{\"id\":\"c7cc2ab5-c366-434c-848a-70279730060e\",\"type\":\"LinearAxis\"}],\"left\":[{\"id\":\"1e6fd1a0-8575-415e-bcc4-b97132e397a5\",\"type\":\"LinearAxis\"}],\"plot_height\":400,\"plot_width\":1000,\"renderers\":[{\"id\":\"c7cc2ab5-c366-434c-848a-70279730060e\",\"type\":\"LinearAxis\"},{\"id\":\"5b9058ff-ea3e-477d-9ecf-a2522932a7c4\",\"type\":\"Grid\"},{\"id\":\"1e6fd1a0-8575-415e-bcc4-b97132e397a5\",\"type\":\"LinearAxis\"},{\"id\":\"f671834a-93b0-4f98-8276-09d25272123f\",\"type\":\"Grid\"},{\"id\":\"38518eda-402a-48ff-9bd6-9eaa4e6dcf30\",\"type\":\"BoxAnnotation\"},{\"id\":\"2ed2fb68-18c8-4c21-a5a7-4713af926b23\",\"type\":\"GlyphRenderer\"}],\"title\":{\"id\":\"23e6d753-9acb-4292-b90f-6db2c6728de7\",\"type\":\"Title\"},\"tool_events\":{\"id\":\"61eb4f15-e23f-442e-a18b-fd1c4b842de3\",\"type\":\"ToolEvents\"},\"toolbar\":{\"id\":\"c87e1d78-76dc-4114-98b1-0fab2f4d97e1\",\"type\":\"Toolbar\"},\"x_range\":{\"id\":\"903bb745-b19b-4182-a800-25516c0b6d08\",\"type\":\"DataRange1d\"},\"y_range\":{\"id\":\"c7c5beeb-8d69-4375-ba40-e85bf13e67d1\",\"type\":\"DataRange1d\"}},\"id\":\"be11323d-91c2-4953-967a-0f68e0c572f5\",\"subtype\":\"Figure\",\"type\":\"Plot\"},{\"attributes\":{},\"id\":\"7ffda565-b9d7-4c33-81ca-524441bcff3a\",\"type\":\"BasicTicker\"},{\"attributes\":{\"callback\":null},\"id\":\"c7c5beeb-8d69-4375-ba40-e85bf13e67d1\",\"type\":\"DataRange1d\"},{\"attributes\":{\"callback\":null,\"column_names\":[\"x\",\"y\"],\"data\":{\"x\":{\"__ndarray__\":\"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\",\"dtype\":\"float64\",\"shape\":[1684]},\"y\":{\"__ndarray__\":\"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\",\"dtype\":\"float32\",\"shape\":[1684]}}},\"id\":\"32777dfb-643f-4a22-966b-55660a9b8034\",\"type\":\"ColumnDataSource\"},{\"attributes\":{},\"id\":\"61eb4f15-e23f-442e-a18b-fd1c4b842de3\",\"type\":\"ToolEvents\"},{\"attributes\":{},\"id\":\"8a80f07f-58fa-46b4-8f5c-8be4d8ddfcd8\",\"type\":\"BasicTicker\"},{\"attributes\":{},\"id\":\"ae1b9d28-ac38-453d-8574-095f369666d9\",\"type\":\"BasicTickFormatter\"},{\"attributes\":{\"dimension\":1,\"plot\":{\"id\":\"be11323d-91c2-4953-967a-0f68e0c572f5\",\"subtype\":\"Figure\",\"type\":\"Plot\"},\"ticker\":{\"id\":\"8a80f07f-58fa-46b4-8f5c-8be4d8ddfcd8\",\"type\":\"BasicTicker\"}},\"id\":\"f671834a-93b0-4f98-8276-09d25272123f\",\"type\":\"Grid\"},{\"attributes\":{\"active_drag\":\"auto\",\"active_scroll\":\"auto\",\"active_tap\":\"auto\",\"tools\":[{\"id\":\"9e79f7d6-e3e0-4249-8796-f97abb5ee1b5\",\"type\":\"PanTool\"},{\"id\":\"fd55d46c-d4e8-4568-8b4b-d0c8c3a70360\",\"type\":\"WheelZoomTool\"},{\"id\":\"d7cae7a4-5f30-43f7-9ec8-8446fd2666a0\",\"type\":\"BoxZoomTool\"},{\"id\":\"8666707e-dced-438f-9ab0-1ad027fdadae\",\"type\":\"SaveTool\"},{\"id\":\"538b4000-ea85-4f8e-bcea-8a5054b8c6d9\",\"type\":\"ResetTool\"},{\"id\":\"83182331-3b80-429d-999d-1b511569e78f\",\"type\":\"HelpTool\"}]},\"id\":\"c87e1d78-76dc-4114-98b1-0fab2f4d97e1\",\"type\":\"Toolbar\"},{\"attributes\":{\"line_alpha\":{\"value\":0.1},\"line_color\":{\"value\":\"#1f77b4\"},\"x\":{\"field\":\"x\"},\"y\":{\"field\":\"y\"}},\"id\":\"5a6abc42-fb17-495e-9d80-474ec1851e1a\",\"type\":\"Line\"},{\"attributes\":{\"plot\":null,\"text\":\"\"},\"id\":\"23e6d753-9acb-4292-b90f-6db2c6728de7\",\"type\":\"Title\"},{\"attributes\":{\"plot\":{\"id\":\"be11323d-91c2-4953-967a-0f68e0c572f5\",\"subtype\":\"Figure\",\"type\":\"Plot\"}},\"id\":\"83182331-3b80-429d-999d-1b511569e78f\",\"type\":\"HelpTool\"},{\"attributes\":{\"line_color\":{\"value\":\"#1f77b4\"},\"x\":{\"field\":\"x\"},\"y\":{\"field\":\"y\"}},\"id\":\"8de98a86-9413-42eb-8bcb-c14247919451\",\"type\":\"Line\"},{\"attributes\":{\"formatter\":{\"id\":\"ae1b9d28-ac38-453d-8574-095f369666d9\",\"type\":\"BasicTickFormatter\"},\"plot\":{\"id\":\"be11323d-91c2-4953-967a-0f68e0c572f5\",\"subtype\":\"Figure\",\"type\":\"Plot\"},\"ticker\":{\"id\":\"8a80f07f-58fa-46b4-8f5c-8be4d8ddfcd8\",\"type\":\"BasicTicker\"}},\"id\":\"1e6fd1a0-8575-415e-bcc4-b97132e397a5\",\"type\":\"LinearAxis\"},{\"attributes\":{},\"id\":\"8d6d7d16-a76d-48ee-8d25-002b22cd51cd\",\"type\":\"BasicTickFormatter\"},{\"attributes\":{\"plot\":{\"id\":\"be11323d-91c2-4953-967a-0f68e0c572f5\",\"subtype\":\"Figure\",\"type\":\"Plot\"},\"ticker\":{\"id\":\"7ffda565-b9d7-4c33-81ca-524441bcff3a\",\"type\":\"BasicTicker\"}},\"id\":\"5b9058ff-ea3e-477d-9ecf-a2522932a7c4\",\"type\":\"Grid\"},{\"attributes\":{\"data_source\":{\"id\":\"32777dfb-643f-4a22-966b-55660a9b8034\",\"type\":\"ColumnDataSource\"},\"glyph\":{\"id\":\"8de98a86-9413-42eb-8bcb-c14247919451\",\"type\":\"Line\"},\"hover_glyph\":null,\"muted_glyph\":null,\"nonselection_glyph\":{\"id\":\"5a6abc42-fb17-495e-9d80-474ec1851e1a\",\"type\":\"Line\"},\"selection_glyph\":null},\"id\":\"2ed2fb68-18c8-4c21-a5a7-4713af926b23\",\"type\":\"GlyphRenderer\"},{\"attributes\":{\"formatter\":{\"id\":\"8d6d7d16-a76d-48ee-8d25-002b22cd51cd\",\"type\":\"BasicTickFormatter\"},\"plot\":{\"id\":\"be11323d-91c2-4953-967a-0f68e0c572f5\",\"subtype\":\"Figure\",\"type\":\"Plot\"},\"ticker\":{\"id\":\"7ffda565-b9d7-4c33-81ca-524441bcff3a\",\"type\":\"BasicTicker\"}},\"id\":\"c7cc2ab5-c366-434c-848a-70279730060e\",\"type\":\"LinearAxis\"},{\"attributes\":{\"plot\":{\"id\":\"be11323d-91c2-4953-967a-0f68e0c572f5\",\"subtype\":\"Figure\",\"type\":\"Plot\"}},\"id\":\"538b4000-ea85-4f8e-bcea-8a5054b8c6d9\",\"type\":\"ResetTool\"},{\"attributes\":{\"bottom_units\":\"screen\",\"fill_alpha\":{\"value\":0.5},\"fill_color\":{\"value\":\"lightgrey\"},\"left_units\":\"screen\",\"level\":\"overlay\",\"line_alpha\":{\"value\":1.0},\"line_color\":{\"value\":\"black\"},\"line_dash\":[4,4],\"line_width\":{\"value\":2},\"plot\":null,\"render_mode\":\"css\",\"right_units\":\"screen\",\"top_units\":\"screen\"},\"id\":\"38518eda-402a-48ff-9bd6-9eaa4e6dcf30\",\"type\":\"BoxAnnotation\"},{\"attributes\":{\"plot\":{\"id\":\"be11323d-91c2-4953-967a-0f68e0c572f5\",\"subtype\":\"Figure\",\"type\":\"Plot\"}},\"id\":\"fd55d46c-d4e8-4568-8b4b-d0c8c3a70360\",\"type\":\"WheelZoomTool\"},{\"attributes\":{\"overlay\":{\"id\":\"38518eda-402a-48ff-9bd6-9eaa4e6dcf30\",\"type\":\"BoxAnnotation\"},\"plot\":{\"id\":\"be11323d-91c2-4953-967a-0f68e0c572f5\",\"subtype\":\"Figure\",\"type\":\"Plot\"}},\"id\":\"d7cae7a4-5f30-43f7-9ec8-8446fd2666a0\",\"type\":\"BoxZoomTool\"},{\"attributes\":{\"plot\":{\"id\":\"be11323d-91c2-4953-967a-0f68e0c572f5\",\"subtype\":\"Figure\",\"type\":\"Plot\"}},\"id\":\"8666707e-dced-438f-9ab0-1ad027fdadae\",\"type\":\"SaveTool\"},{\"attributes\":{\"plot\":{\"id\":\"be11323d-91c2-4953-967a-0f68e0c572f5\",\"subtype\":\"Figure\",\"type\":\"Plot\"}},\"id\":\"9e79f7d6-e3e0-4249-8796-f97abb5ee1b5\",\"type\":\"PanTool\"}],\"root_ids\":[\"be11323d-91c2-4953-967a-0f68e0c572f5\"]},\"title\":\"Bokeh Application\",\"version\":\"0.12.5\"}};\n",
       "            var render_items = [{\"docid\":\"bde78c5f-c108-40ca-8d6e-1de50de23e61\",\"elementid\":\"67edf2f4-2053-4ee5-be99-39ad417c2e10\",\"modelid\":\"be11323d-91c2-4953-967a-0f68e0c572f5\",\"notebook_comms_target\":\"9ad7563a-40cf-432b-a6ed-ffd2e72696d4\"}];\n",
       "            \n",
       "            Bokeh.embed.embed_items(docs_json, render_items);\n",
       "          };\n",
       "          if (document.readyState != \"loading\") fn();\n",
       "          else document.addEventListener(\"DOMContentLoaded\", fn);\n",
       "        })();\n",
       "      },\n",
       "      function(Bokeh) {\n",
       "      }\n",
       "    ];\n",
       "  \n",
       "    function run_inline_js() {\n",
       "      \n",
       "      if ((window.Bokeh !== undefined) || (force === true)) {\n",
       "        for (var i = 0; i < inline_js.length; i++) {\n",
       "          inline_js[i](window.Bokeh);\n",
       "        }if (force === true) {\n",
       "          display_loaded();\n",
       "        }} else if (Date.now() < window._bokeh_timeout) {\n",
       "        setTimeout(run_inline_js, 100);\n",
       "      } else if (!window._bokeh_failed_load) {\n",
       "        console.log(\"Bokeh: BokehJS failed to load within specified timeout.\");\n",
       "        window._bokeh_failed_load = true;\n",
       "      } else if (force !== true) {\n",
       "        var cell = $(document.getElementById(\"67edf2f4-2053-4ee5-be99-39ad417c2e10\")).parents('.cell').data().cell;\n",
       "        cell.output_area.append_execute_result(NB_LOAD_WARNING)\n",
       "      }\n",
       "  \n",
       "    }\n",
       "  \n",
       "    if (window._bokeh_is_loading === 0) {\n",
       "      console.log(\"Bokeh: BokehJS loaded, going straight to plotting\");\n",
       "      run_inline_js();\n",
       "    } else {\n",
       "      load_libs(js_urls, function() {\n",
       "        console.log(\"Bokeh: BokehJS plotting callback run at\", now());\n",
       "        run_inline_js();\n",
       "      });\n",
       "    }\n",
       "  }(this));\n",
       "</script>"
      ]
     },
     "metadata": {},
     "output_type": "display_data"
    },
    {
     "data": {
      "text/html": [
       "<p><code>&lt;Bokeh Notebook handle for <strong>In[30]</strong>&gt;</code></p>"
      ],
      "text/plain": [
       "<bokeh.io._CommsHandle at 0x113410748>"
      ]
     },
     "execution_count": 30,
     "metadata": {},
     "output_type": "execute_result"
    }
   ],
   "source": [
    "p = figure(plot_width=1000, plot_height=400)\n",
    "ts = p.line(global_sales_per_day.date.values, global_sales_per_day.unit_sales.values)\n",
    "\n",
    "def update(period_length=1):\n",
    "    ts.data_source.data['y'] = global_sales_per_day.unit_sales.rolling(period_length, center=True).mean()\n",
    "    push_notebook()\n",
    "    \n",
    "show(p, notebook_handle=True)"
   ]
  },
  {
   "cell_type": "markdown",
   "metadata": {},
   "source": [
    "### valeurs intéressantes : 1, multiples de 7, 364..."
   ]
  },
  {
   "cell_type": "code",
   "execution_count": 33,
   "metadata": {},
   "outputs": [
    {
     "data": {
      "application/vnd.jupyter.widget-view+json": {
       "model_id": "6c66a754d0de4681a8bc8862f74b1325"
      }
     },
     "metadata": {},
     "output_type": "display_data"
    },
    {
     "data": {
      "text/plain": [
       "<function __main__.update>"
      ]
     },
     "execution_count": 33,
     "metadata": {},
     "output_type": "execute_result"
    }
   ],
   "source": [
    "interact(update, period_length=(1, 365))"
   ]
  },
  {
   "cell_type": "markdown",
   "metadata": {},
   "source": [
    "# Analyse fréquentielle (FFT)"
   ]
  },
  {
   "cell_type": "code",
   "execution_count": 53,
   "metadata": {},
   "outputs": [
    {
     "name": "stderr",
     "output_type": "stream",
     "text": [
      "/anaconda/lib/python3.6/site-packages/ipykernel_launcher.py:9: DeprecationWarning: object of type <class 'float'> cannot be safely interpreted as an integer.\n",
      "  if __name__ == '__main__':\n"
     ]
    },
    {
     "data": {
      "image/png": "[encoded data removed]",
      "text/plain": [
       "<matplotlib.figure.Figure at 0x113444c18>"
      ]
     },
     "metadata": {},
     "output_type": "display_data"
    }
   ],
   "source": [
    "N = len(global_sales_per_day.unit_sales)\n",
    "T = 1\n",
    "x = np.linspace(1, N, N)\n",
    "#y = np.sin(50.0 * 2.0*np.pi*x) + 0.5*np.sin(80.0 * 2.0*np.pi*x)\n",
    "y = global_sales_per_day.unit_sales.values\n",
    "yf = scipy.fftpack.fft(y)\n",
    "xf = np.linspace(0.0, 1.0/(2.0*T), N/2)\n",
    "\n",
    "fig, ax = plt.subplots()\n",
    "ax.plot(xf, 2.0/N * np.abs(yf[:N//2]))\n",
    "plt.show()"
   ]
  },
  {
   "cell_type": "markdown",
   "metadata": {},
   "source": [
    "# Modèle temporel global"
   ]
  },
  {
   "cell_type": "code",
   "execution_count": 103,
   "metadata": {},
   "outputs": [
    {
     "data": {
      "text/plain": [
       "LinearRegression(copy_X=True, fit_intercept=True, n_jobs=1, normalize=False)"
      ]
     },
     "execution_count": 103,
     "metadata": {},
     "output_type": "execute_result"
    }
   ],
   "source": [
    "# modele lineaire lisse sur l'annee (year to date)\n",
    "x = np.linspace(0, N-1, N)\n",
    "y = global_sales_per_day.unit_sales.rolling(364, center=True).mean()\n",
    "\n",
    "# on met ca dans un df pour plus de simplicite\n",
    "df_reg_lin = pd.DataFrame({'x':x, 'y':y})\n",
    "df_reg_lin.dropna(inplace=True)\n",
    "shp = len(df_reg_lin)\n",
    "\n",
    "x_ = df_reg_lin.x.values.reshape(shp, 1)\n",
    "y_ = df_reg_lin.y.values.reshape(shp, 1)\n",
    "\n",
    "linreg = linear_model.LinearRegression()\n",
    "linreg.fit(x_, y_)"
   ]
  },
  {
   "cell_type": "code",
   "execution_count": 104,
   "metadata": {},
   "outputs": [
    {
     "name": "stdout",
     "output_type": "stream",
     "text": [
      "Regression: \n",
      " 354.310947404  * x +  346340.60711\n",
      "Variance score: 0.97\n"
     ]
    }
   ],
   "source": [
    "# The coefficients\n",
    "print('Regression: \\n', linreg.coef_[0][0],\" * x + \", linreg.intercept_[0])\n",
    "# Make predictions using the testing set\n",
    "y_pred = linreg.coef_[0][0] * x_ + linreg.intercept_[0]\n",
    "# Explained variance score: 1 is perfect prediction\n",
    "print('Variance score: %.2f' % r2_score(y_, y_pred))"
   ]
  },
  {
   "cell_type": "markdown",
   "metadata": {},
   "source": [
    "## Le r2 est encourageant..."
   ]
  },
  {
   "cell_type": "markdown",
   "metadata": {},
   "source": [
    "# Modèle temporel avec saisonnalité :\n",
    "On part du modèle précédent rendant compte de la croissance globale le long de la période et on ajoute la périodicite hebdo, on peut l'écrire : \n",
    "$$y = ax + b + c\\sin(\\omega t + \\varphi)$$, avec $$\\omega = 2\\pi/T = 2\\pi/7$$."
   ]
  },
  {
   "cell_type": "markdown",
   "metadata": {},
   "source": [
    "## on peut améliorer le modèle en faisant varier l'amplitude dans le temps"
   ]
  },
  {
   "cell_type": "markdown",
   "metadata": {},
   "source": [
    "## à tester : ajouter un calque périodique annuel pour les cycles plus grands"
   ]
  }
 ],
 "metadata": {
  "kernelspec": {
   "display_name": "Python 3",
   "language": "python",
   "name": "python3"
  },
  "language_info": {
   "codemirror_mode": {
    "name": "ipython",
    "version": 3
   },
   "file_extension": ".py",
   "mimetype": "text/x-python",
   "name": "python",
   "nbconvert_exporter": "python",
   "pygments_lexer": "ipython3",
   "version": "3.6.1"
  }
 },
 "nbformat": 4,
 "nbformat_minor": 2
}
